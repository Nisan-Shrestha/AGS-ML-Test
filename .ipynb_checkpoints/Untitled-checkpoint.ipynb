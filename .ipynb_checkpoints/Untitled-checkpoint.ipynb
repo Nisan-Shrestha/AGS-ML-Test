{
 "cells": [
  {
   "cell_type": "code",
   "execution_count": 2,
   "id": "53bd6784",
   "metadata": {},
   "outputs": [],
   "source": [
    "import tensorflow as tf\n",
    "import tensorflow_hub as hub\n",
    "\n",
    "# Download the model from TF Hub.\n",
    "model = hub.load(\"https://tfhub.dev/google/movenet/multipose/lightning/1\")\n",
    "movenet = model.signatures['serving_default']"
   ]
  },
  {
   "cell_type": "code",
   "execution_count": 16,
   "id": "69d5af41",
   "metadata": {},
   "outputs": [
    {
     "name": "stdout",
     "output_type": "stream",
     "text": [
      "tf.Tensor(\n",
      "[[[0.57790595 0.70473766 0.83738714 0.81719315 0.4213614 ]\n",
      "  [0.5906662  0.85082227 0.8400415  0.96970767 0.40129438]\n",
      "  [0.66208947 0.45154384 0.847018   0.62265396 0.28022972]\n",
      "  [0.5827019  0.5918039  0.8409344  0.6995876  0.1874897 ]\n",
      "  [0.5526818  0.69290805 0.6822002  0.7304517  0.01116459]\n",
      "  [0.78897005 0.7151407  0.82027966 0.7718874  0.0088805 ]]], shape=(1, 6, 5), dtype=float32)\n"
     ]
    }
   ],
   "source": [
    "# Load the input image.\n",
    "image_path = 'IMG.jpg'\n",
    "image = tf.io.read_file(image_path)\n",
    "image = tf.compat.v1.image.decode_jpeg(image)\n",
    "image = tf.expand_dims(image, axis=0)\n",
    "# Resize and pad the image to keep the aspect ratio and fit the expected size.\n",
    "image = tf.cast(tf.image.resize_with_pad(image, 256, 256), dtype=tf.int32)\n",
    "\n",
    "# Run model inference.\n",
    "outputs = movenet(image)\n",
    "# Output is a [1, 6, 56] tensor.\n",
    "keypoints = outputs['output_0']\n",
    "keypoints = (keypoints[:,:,51:56])\n",
    "print(keypoints)"
   ]
  },
  {
   "cell_type": "code",
   "execution_count": null,
   "id": "141f1ac8",
   "metadata": {},
   "outputs": [],
   "source": []
  }
 ],
 "metadata": {
  "kernelspec": {
   "display_name": "Python 3 (ipykernel)",
   "language": "python",
   "name": "python3"
  },
  "language_info": {
   "codemirror_mode": {
    "name": "ipython",
    "version": 3
   },
   "file_extension": ".py",
   "mimetype": "text/x-python",
   "name": "python",
   "nbconvert_exporter": "python",
   "pygments_lexer": "ipython3",
   "version": "3.10.5"
  }
 },
 "nbformat": 4,
 "nbformat_minor": 5
}
